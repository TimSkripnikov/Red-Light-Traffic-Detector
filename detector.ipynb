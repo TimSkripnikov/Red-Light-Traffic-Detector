{
 "cells": [
  {
   "cell_type": "code",
   "execution_count": null,
   "id": "9fbfa722",
   "metadata": {
    "vscode": {
     "languageId": "plaintext"
    }
   },
   "outputs": [],
   "source": [
    "import cv2\n",
    "import numpy as np\n",
    "from ultralytics import YOLO\n",
    "from deep_sort_realtime import DeepSort\n",
    "from collections import deque\n",
    "\n",
    "model_car = YOLO(\"yolov8n_car.pt\")\n",
    "model_traffic = YOLO(\"traffic.pt\")\n",
    "model_seg = YOLO(\"yolov8s-seg_stop_line.pt\")\n",
    "tracker = DeepSort(max_age=30)\n",
    "traffic_light_buffer = deque(maxlen=10)\n",
    "\n",
    "def match_car_to_traffic_light(car_bbox, traffic_lights):\n",
    "    car_center = [(car_bbox[0] + car_bbox[2])/2, (car_bbox[1] + car_bbox[3])/2]\n",
    "    min_dist = float(\"inf\")\n",
    "    closest_light = None\n",
    "    for light in traffic_lights:\n",
    "        light_center = [(light[0] + light[2])/2, (light[1] + light[3])/2]\n",
    "        distance = np.sqrt((car_center[0]-light_center[0])**2 + (car_center[1]-light_center[1])**2)\n",
    "        if distance < min_dist:\n",
    "            min_dist = distance\n",
    "            closest_light = light\n",
    "    return closest_light\n",
    "\n",
    "def is_crossing_stop_line(car_bbox, stop_line_mask):\n",
    "    x_min, y_min, x_max, y_max = car_bbox\n",
    "    h, w = stop_line_mask.shape\n",
    "    pixel_x = int(((x_min + x_max) / 2) * w)\n",
    "    pixel_y = int(y_max * h)\n",
    "    return stop_line_mask[pixel_y, pixel_x] == 1 if 0 <= pixel_x < w and 0 <= pixel_y < h else False\n",
    "\n",
    "cap = cv2.VideoCapture(\"input_video.mp4\")\n",
    "\n",
    "while cap.isOpened():\n",
    "    ret, frame = cap.read()\n",
    "    if not ret: break\n",
    "\n",
    "    car_results = model_car(frame)\n",
    "    car_boxes = car_results[0].boxes.xyxy.cpu().numpy()\n",
    "    car_confidences = car_results[0].boxes.conf.cpu().numpy()\n",
    "    tracks = tracker.update(car_boxes, car_confidences, frame)\n",
    "\n",
    "    traffic_results = model_traffic(frame)\n",
    "    traffic_lights = []\n",
    "    for box, cls in zip(traffic_results[0].boxes.xyxy.cpu().numpy(), traffic_results[0].boxes.cls.cpu().numpy()):\n",
    "        traffic_lights.append({\"bbox\": box, \"signal\": model_traffic.names[int(cls)]})\n",
    "\n",
    "    seg_results = model_seg(frame)\n",
    "    stop_line_mask = seg_results[0].masks.data[0].cpu().numpy() if seg_results[0].masks else np.zeros(frame.shape[:2])\n",
    "\n",
    "    current_signals = [light[\"signal\"] for light in traffic_lights]\n",
    "    traffic_light_buffer.extend(current_signals)\n",
    "\n",
    "    for track in tracks:\n",
    "        track_id = track.track_id\n",
    "        car_bbox = track.to_tlbr()\n",
    "        closest_light = match_car_to_traffic_light(car_bbox, [light[\"bbox\"] for light in traffic_lights])\n",
    "        \n",
    "        if closest_light and traffic_lights[[light[\"bbox\"] for light in traffic_lights].index(closest_light)][\"signal\"] == \"red\":\n",
    "            if traffic_light_buffer.count(\"red\") >= 5:\n",
    "                if is_crossing_stop_line(car_bbox, stop_line_mask):\n",
    "                    print(f\"Violation by car {track_id}\")\n",
    "\n",
    "cap.release()"
   ]
  }
 ],
 "metadata": {
  "language_info": {
   "name": "python"
  }
 },
 "nbformat": 4,
 "nbformat_minor": 5
}
